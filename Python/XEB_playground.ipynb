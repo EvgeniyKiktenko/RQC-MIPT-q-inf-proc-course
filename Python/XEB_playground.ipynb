{
 "cells": [
  {
   "cell_type": "code",
   "execution_count": 1,
   "metadata": {},
   "outputs": [],
   "source": [
    "import numpy as np\n",
    "import matplotlib.pyplot as plt\n",
    "import scipy.linalg"
   ]
  },
  {
   "cell_type": "code",
   "execution_count": 2,
   "metadata": {},
   "outputs": [
    {
     "name": "stdout",
     "output_type": "stream",
     "text": [
      "CZ gate:\n",
      "[[ 1.  0.  0.  0.]\n",
      " [ 0.  1.  0.  0.]\n",
      " [ 0.  0.  1.  0.]\n",
      " [ 0.  0.  0. -1.]]\n"
     ]
    }
   ],
   "source": [
    "# Some basic operators\n",
    "sigma = np.array([np.eye(2, dtype=complex) for _ in range(4)])\n",
    "sigma[1] = np.array([[0,1],[1,0]])\n",
    "sigma[2] = np.array([[0,-1j],[1j,0]])\n",
    "sigma[3] = np.array([[1,0],[0,-1]])\n",
    "\n",
    "def rx_gate(theta):\n",
    "    return scipy.linalg.expm(-1j * sigma[1] * theta / 2)\n",
    "\n",
    "def ry_gate(theta):\n",
    "    return scipy.linalg.expm(-1j * sigma[2] * theta / 2)\n",
    "\n",
    "def rz_gate(theta):\n",
    "    return scipy.linalg.expm(-1j * sigma[3] * theta / 2)\n",
    "\n",
    "cz_gate = np.eye(4); cz_gate[3,3] = -1\n",
    "\n",
    "print(f'CZ gate:\\n{cz_gate}')"
   ]
  },
  {
   "cell_type": "code",
   "execution_count": 3,
   "metadata": {},
   "outputs": [],
   "source": [
    "def random_circuit(qubits_num, layers_num):\n",
    "    \"\"\"Generates random 'qubits_num'-qubit circuit with \n",
    "    'layers_num' layers of gates.\n",
    "    Each layer inclueds random single-qubit and fixed two-qubit gates\n",
    "    \"\"\"\n",
    "    resulting_unitary = np.eye(2 ** qubits_num, dtype=complex)\n",
    "\n",
    "    for layer_ind in range(layers_num):\n",
    "        # Adding two-qubit gates:\n",
    "        if layer_ind % 2: # even layer\n",
    "            layer_content = np.eye(2, dtype=complex)\n",
    "            for _ in range((qubits_num-1) // 2):\n",
    "                layer_content = np.kron(layer_content, cz_gate)\n",
    "        \n",
    "        else: # odd layer\n",
    "            layer_content = np.eye(1, dtype=complex)\n",
    "            for _ in range(qubits_num // 2):\n",
    "                layer_content = np.kron(layer_content, cz_gate)\n",
    "\n",
    "        # Additional identity if needed:\n",
    "        if layer_content.shape[0] < 2 ** qubits_num: \n",
    "            layer_content = np.kron(layer_content, sigma[0])\n",
    "        \n",
    "        # Adding single-qubit gates:\n",
    "        random_1qb_rotations = np.eye(1, dtype=complex)\n",
    "        for _ in range(qubits_num):\n",
    "            theta1, theta2, theta3 = 2 * np.pi * np.random.rand(3)\n",
    "            random_1qb_rotation = (rz_gate(theta3) @ \n",
    "                                   rx_gate(theta2) @ \n",
    "                                   rz_gate(theta1))\n",
    "            random_1qb_rotations = np.kron(random_1qb_rotations, \n",
    "                                           random_1qb_rotation)\n",
    "        \n",
    "        layer_content = random_1qb_rotations @ layer_content\n",
    "        resulting_unitary = layer_content @ resulting_unitary\n",
    "        \n",
    "    return resulting_unitary\n",
    "\n",
    "def generate_truely_random_distr(qubits_num):\n",
    "    \"\"\"Genrates uniformly random state (according to the Haar measure)\n",
    "    and calculates corresponding probability distribution\n",
    "    \"\"\"\n",
    "    vec = np.random.normal(0, 1, 2 ** qubits_num) + \\\n",
    "          1j * np.random.normal(0, 1, 2 ** qubits_num)\n",
    "    probs = np.array([np.abs(vec[i]) ** 2 \n",
    "                      for i in range(2 ** qubits_num)])\n",
    "    probs = probs / np.sum(probs)\n",
    "    return probs"
   ]
  },
  {
   "cell_type": "code",
   "execution_count": 22,
   "metadata": {},
   "outputs": [
    {
     "name": "stdout",
     "output_type": "stream",
     "text": [
      "Check of probabilities sum: 1.0\n"
     ]
    },
    {
     "data": {
      "text/plain": [
       "<matplotlib.legend.Legend at 0x7ff4aee97290>"
      ]
     },
     "execution_count": 22,
     "metadata": {},
     "output_type": "execute_result"
    },
    {
     "data": {
      "image/png": "[encoded data removed]",
      "text/plain": [
       "<Figure size 432x288 with 1 Axes>"
      ]
     },
     "metadata": {
      "needs_background": "light"
     },
     "output_type": "display_data"
    }
   ],
   "source": [
    "# Let's compare true random distribution and the one \n",
    "# from a random-like circuit\n",
    "qubits_num = 4\n",
    "layers_num = 40\n",
    "\n",
    "initial_vec = np.zeros((2 ** qubits_num, 1)); initial_vec[0] = 1\n",
    "circuit = random_circuit(qubits_num, layers_num)\n",
    "final_vec = circuit @ initial_vec\n",
    "\n",
    "final_probs = [np.abs(final_vec[i][0]) ** 2 \n",
    "               for i in range(2 ** qubits_num)]\n",
    "\n",
    "true_random_probs = np.sort(generate_truely_random_distr(qubits_num))\n",
    "\n",
    "print(f'Check of probabilities sum: {np.sum(final_probs).round(10)}')\n",
    "\n",
    "_, ax = plt.subplots()\n",
    "ax.plot(final_probs, '.-', color = 'blue')\n",
    "ax.plot(np.sort(final_probs)[::-1], '-', color = 'red')\n",
    "ax.plot(true_random_probs[::-1], '--', color = 'green')\n",
    "ax.plot([0,2 ** qubits_num - 1], [1/(2 ** qubits_num),1/(2 ** qubits_num)], \n",
    "        '--', lw = 2, color = 'orange')\n",
    "ax.legend(['Unsorted probs for random circuit', \n",
    "           'Sorted probs for random circuit', \n",
    "           'Truely random distribuiton', \n",
    "           'Uniform distribution'])"
   ]
  },
  {
   "cell_type": "code",
   "execution_count": 5,
   "metadata": {},
   "outputs": [],
   "source": [
    "def add_noise(probs, fidelity):\n",
    "    \"\"\"\n",
    "    Adding white noise to input probability\n",
    "    fidelity = 0 -- noise only\n",
    "    fidelity = 1 -- no noise\n",
    "    \"\"\"\n",
    "    return fidelity * np.array(probs) + (1 - fidelity) * \\\n",
    "        np.ones(2 ** qubits_num) / (2 ** qubits_num)"
   ]
  },
  {
   "cell_type": "code",
   "execution_count": 6,
   "metadata": {},
   "outputs": [
    {
     "data": {
      "text/plain": [
       "Text(0.5, 1.0, 'Fidelity = 0.4')"
      ]
     },
     "execution_count": 6,
     "metadata": {},
     "output_type": "execute_result"
    },
    {
     "data": {
      "image/png": "[encoded data removed]",
      "text/plain": [
       "<Figure size 432x288 with 1 Axes>"
      ]
     },
     "metadata": {
      "needs_background": "light"
     },
     "output_type": "display_data"
    }
   ],
   "source": [
    "# Let's see how the noise affects our probability distribution\n",
    "fidelity = 0.4\n",
    "final_probs_with_noise = add_noise(final_probs, fidelity)\n",
    "\n",
    "_, ax = plt.subplots()\n",
    "ax.plot(np.sort(final_probs)[::-1], '-', color = 'red')\n",
    "ax.plot(np.sort(final_probs_with_noise)[::-1], '-', color = 'blue')\n",
    "ax.plot([0,2 ** qubits_num - 1], \n",
    "        [1/(2 ** qubits_num),1/(2 ** qubits_num)], \n",
    "        '--', lw = 2, color = 'orange')\n",
    "ax.legend(['Ideal', 'Noisy', 'Uniform'])\n",
    "ax.set_title(f'Fidelity = {fidelity}')"
   ]
  },
  {
   "cell_type": "code",
   "execution_count": 7,
   "metadata": {},
   "outputs": [],
   "source": [
    "def sample_from_circuit(probs, runs_num, qubits_num):\n",
    "    \"\"\"Samples bitstring treated as integers from \n",
    "    given distribution\n",
    "    \"\"\"\n",
    "    return [np.random.choice(range(2 ** qubits_num), p=probs) \n",
    "            for _ in range(runs_num)]\n",
    "\n",
    "def calculate_XEB(samples_list, probs, qubits_num):\n",
    "    \"\"\"Calculates linear cross-entropy benchmark\n",
    "    \"\"\"\n",
    "    probs_array = [probs[sample] for sample in samples_list]\n",
    "    return 2 ** qubits_num * np.mean(probs_array) - 1"
   ]
  },
  {
   "cell_type": "code",
   "execution_count": 31,
   "metadata": {},
   "outputs": [
    {
     "name": "stdout",
     "output_type": "stream",
     "text": [
      "Ideal circuit samples:\n",
      "[ 5  1  1 ...  7  1 15] \n",
      "Random samples:\n",
      "[15 15  7 ...  8  2  7] \n",
      "Noisy circuit samples:\n",
      "[14  5  3 ...  6  5  4]\n",
      "\n",
      "Values of XEB:\n",
      "ideal circuit:\t1.3338\n",
      "random gen:\t0.0008\n",
      "noisy circuit:\t0.1312\n"
     ]
    }
   ],
   "source": [
    "# Let's see how XEB behaves\n",
    "qubits_num = 4\n",
    "layers_num = 40\n",
    "\n",
    "fidelity = 0.08\n",
    "runs_num = 10000\n",
    "\n",
    "initial_vec = np.zeros((2 ** qubits_num, 1)); initial_vec[0] = 1\n",
    "circuit = random_circuit(qubits_num, layers_num)\n",
    "final_vec = circuit @ initial_vec\n",
    "final_probs = [np.abs(final_vec[i][0]) ** 2 \n",
    "               for i in range(2 ** qubits_num)]\n",
    "\n",
    "\n",
    "final_probs_with_noise = add_noise(final_probs, fidelity)\n",
    "\n",
    "circuit_results = sample_from_circuit(final_probs, \n",
    "                                      runs_num, \n",
    "                                      qubits_num)\n",
    "rand_results = np.random.randint(2 ** qubits_num, size=runs_num)\n",
    "noisy_circuit_results = sample_from_circuit(final_probs_with_noise, \n",
    "                                            runs_num, \n",
    "                                            qubits_num)\n",
    "\n",
    "print(f'Ideal circuit samples:\\n{np.array(circuit_results)}',\n",
    "      f'\\nRandom samples:\\n{np.array(rand_results)}',\n",
    "      f'\\nNoisy circuit samples:\\n{np.array(noisy_circuit_results)}\\n')\n",
    "\n",
    "XEB_circuit = calculate_XEB(circuit_results, final_probs, qubits_num)\n",
    "XEB_random = calculate_XEB(rand_results, final_probs, qubits_num)\n",
    "XEB_noisy_circuit = calculate_XEB(noisy_circuit_results, \n",
    "                                  final_probs,\n",
    "                                  qubits_num)\n",
    "\n",
    "print( 'Values of XEB:\\n'\n",
    "      f'ideal circuit:\\t{XEB_circuit.round(4)}\\n'\n",
    "      f'random gen:\\t{XEB_random.round(4)}\\n'\n",
    "      f'noisy circuit:\\t{XEB_noisy_circuit.round(4)}')"
   ]
  },
  {
   "cell_type": "code",
   "execution_count": null,
   "metadata": {},
   "outputs": [],
   "source": []
  },
  {
   "cell_type": "code",
   "execution_count": null,
   "metadata": {},
   "outputs": [],
   "source": []
  }
 ],
 "metadata": {
  "kernelspec": {
   "display_name": "Python 3",
   "language": "python",
   "name": "python3"
  },
  "language_info": {
   "codemirror_mode": {
    "name": "ipython",
    "version": 3
   },
   "file_extension": ".py",
   "mimetype": "text/x-python",
   "name": "python",
   "nbconvert_exporter": "python",
   "pygments_lexer": "ipython3",
   "version": "3.7.4"
  }
 },
 "nbformat": 4,
 "nbformat_minor": 2
}
